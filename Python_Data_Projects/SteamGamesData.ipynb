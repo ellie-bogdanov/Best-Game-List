{
 "cells": [
  {
   "cell_type": "code",
   "execution_count": 1,
   "metadata": {},
   "outputs": [],
   "source": [
    "import pandas as pd\n",
    "\n",
    "class Game:\n",
    "    def __init__(self, name, price, negatives, positives):\n",
    "        self.name = name\n",
    "        self.price = price\n",
    "        self.negatives = negatives\n",
    "        self.positives = positives\n",
    "        self.grade = 0\n",
    "\n",
    "    def __str__(self):\n",
    "        return f\"Name: {self.name} Price: {self.price}\""
   ]
  },
  {
   "cell_type": "code",
   "execution_count": 29,
   "metadata": {},
   "outputs": [],
   "source": [
    "df = pd.DataFrame(pd.read_csv('games.csv'))\n",
    "worthEvaling = {'Name': [],\n",
    "                'Price': [],\n",
    "                'Negative': [],\n",
    "                'Positive': [],\n",
    "                'Grade': []}\n",
    "\n",
    "games = []\n",
    "for index in df.index:\n",
    "    #print(\"Name:\", df['Name'][index], \"Price:\", df['Price'][index], \"Negatives:\", df['Negative'][index], \"Positives:\", df['Positive'][index])\n",
    "\n",
    "    if(df['Negative'][index] + df['Positive'][index] >= 100 and df['Price'][index] > 10):\n",
    "       worthEvaling['Name'].append(df['Name'][index]) \n",
    "       worthEvaling['Price'].append(df['Price'][index])\n",
    "       worthEvaling['Negative'].append(df['Negative'][index])\n",
    "       worthEvaling['Positive'].append(df['Positive'][index])\n",
    "       game = Game(df['Name'][index], df['Price'][index], df['Negative'][index], df['Positive'][index])\n",
    "       games.append(game)\n",
    "\n",
    "\n",
    "for game in games:\n",
    "    grade = (game.positives)/(game.negatives + game.price)\n",
    "    game.grade = grade\n",
    "\n",
    "games.sort(key=lambda x: x.grade, reverse=True)\n",
    "\n",
    "file = open(\"games.txt\", 'w')\n",
    "numberOfRecGames = 20\n",
    "for i in range(50):\n",
    "    file.writelines(\"Name: \" + games[i].name + \".\\n\" + \"Price: \" + f'{games[i].price: .2f}' + \".\\n\\n\")\n",
    "    \n",
    "file.close()"
   ]
  }
 ],
 "metadata": {
  "kernelspec": {
   "display_name": "Python 3",
   "language": "python",
   "name": "python3"
  },
  "language_info": {
   "codemirror_mode": {
    "name": "ipython",
    "version": 3
   },
   "file_extension": ".py",
   "mimetype": "text/x-python",
   "name": "python",
   "nbconvert_exporter": "python",
   "pygments_lexer": "ipython3",
   "version": "3.9.13"
  },
  "orig_nbformat": 4
 },
 "nbformat": 4,
 "nbformat_minor": 2
}
